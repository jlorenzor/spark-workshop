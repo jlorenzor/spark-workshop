{
 "cells": [
  {
   "cell_type": "markdown",
   "metadata": {},
   "source": [
    "# Exploración de datos de \"Inscripciones virtuales a los talleres de la Municipalidad Distrital de Jesús María\"\n",
    "\n",
    "Registro de las inscripciones virtuales a los talleres en la Municipalidad Distrital de Jesús María.\n",
    "\n",
    "Los talleres de las Municipalidad Distrital de Jesús María son para los residentes del distrito tiene un descuento especial, y el público general también puede inscribirse a los talleres. Los horarios están habilitados durante todo el año según cronograma.\n",
    "\n",
    "Los talleres que brinda la Municipalidad Distrital de Jesús María son Natación de 3 a 5 años, Natación de 6 años a más, futbol, taekondo, vóley, basket, karate, teatro, arte, guitarra, yoga, ballet, kpop, danza folclórica y muchos más. \n",
    "\n",
    "Este dataset esta caracterizado por:\n",
    "\n",
    "Datos de la inscripción: Nombre del taller, local, días, horario y periodo\n",
    "Datos del alumno: Nombre del alumno, fecha de nacimiento, edad y sexo\n",
    "Precio para residentes de Jesús maría, precio para publico en general y precio total\n",
    "Departamento, provincia, distrito y ubigeo donde se realizo los talleres\n",
    "\n",
    "Fuente: https://www.datosabiertos.gob.pe/dataset/inscripciones-virtuales-los-talleres-de-la-municipalidad-distrital-de-jesús-maría-–-mjm"
   ]
  },
  {
   "cell_type": "markdown",
   "metadata": {},
   "source": [
    "## 1. Preparativos para estudiar la inscripción a talleres de jesus maria"
   ]
  },
  {
   "cell_type": "code",
   "execution_count": 10,
   "metadata": {
    "vscode": {
     "languageId": "plaintext"
    }
   },
   "outputs": [],
   "source": [
    "import pandas as pd\n",
    "from pyspark.sql import SparkSession\n",
    "from pyspark.sql.functions import *\n",
    "from pyspark.sql.types import *"
   ]
  },
  {
   "cell_type": "markdown",
   "metadata": {},
   "source": [
    "### 1.1. Instanciamos la sesión de spark"
   ]
  },
  {
   "cell_type": "code",
   "execution_count": 11,
   "metadata": {},
   "outputs": [],
   "source": [
    "spark = SparkSession.builder \\\n",
    "    .appName(\"Analisis de Inscripciones a talleres de Jesús María\") \\\n",
    "    .config(\"spark.jars\", \"/usr/local/spark/jars/postgresql-42.7.4.jar\") \\\n",
    "    .getOrCreate()"
   ]
  },
  {
   "cell_type": "markdown",
   "metadata": {},
   "source": [
    "### 1.2. Implementamos la estructura del CSV adjunto"
   ]
  },
  {
   "cell_type": "code",
   "execution_count": 12,
   "metadata": {},
   "outputs": [],
   "source": [
    "schema = StructType([\n",
    "    StructField(\"fecha_corte\", StringType(), True),\n",
    "    StructField(\"codigo_alumno\", StringType(), True),\n",
    "    StructField(\"fecha_nacimiento\", StringType(), True),\n",
    "    StructField(\"edad\", IntegerType(), True),\n",
    "    StructField(\"sexo\", StringType(), True),\n",
    "    StructField(\"taller\", StringType(), True),\n",
    "    StructField(\"local\", StringType(), True),\n",
    "    StructField(\"dias\", StringType(), True),\n",
    "    StructField(\"horario\", StringType(), True),\n",
    "    StructField(\"periodo\", StringType(), True),\n",
    "    StructField(\"precio_jesus_maria\", DoubleType(), True),\n",
    "    StructField(\"precio_publico_general\", DoubleType(), True),\n",
    "    StructField(\"precio_total\", DoubleType(), True),\n",
    "    StructField(\"departamento\", StringType(), True),\n",
    "    StructField(\"provincia\", StringType(), True),\n",
    "    StructField(\"distrito\", StringType(), True),\n",
    "    StructField(\"ubigeo\", StringType(), True)\n",
    "])"
   ]
  },
  {
   "cell_type": "markdown",
   "metadata": {},
   "source": [
    "### 1.3 Carga de los datos del CSV"
   ]
  },
  {
   "cell_type": "code",
   "execution_count": 13,
   "metadata": {},
   "outputs": [
    {
     "name": "stdout",
     "output_type": "stream",
     "text": [
      "Vistazo al conjunto de datos:\n",
      "root\n",
      " |-- fecha_corte: string (nullable = true)\n",
      " |-- codigo_alumno: string (nullable = true)\n",
      " |-- fecha_nacimiento: string (nullable = true)\n",
      " |-- edad: integer (nullable = true)\n",
      " |-- sexo: string (nullable = true)\n",
      " |-- taller: string (nullable = true)\n",
      " |-- local: string (nullable = true)\n",
      " |-- dias: string (nullable = true)\n",
      " |-- horario: string (nullable = true)\n",
      " |-- periodo: string (nullable = true)\n",
      " |-- precio_jesus_maria: double (nullable = true)\n",
      " |-- precio_publico_general: double (nullable = true)\n",
      " |-- precio_total: double (nullable = true)\n",
      " |-- departamento: string (nullable = true)\n",
      " |-- provincia: string (nullable = true)\n",
      " |-- distrito: string (nullable = true)\n",
      " |-- ubigeo: string (nullable = true)\n",
      "\n",
      "Total de registros: 1570\n"
     ]
    }
   ],
   "source": [
    "df = spark.read.format(\"csv\") \\\n",
    "    .option(\"header\", \"true\") \\\n",
    "    .option(\"delimiter\", \";\") \\\n",
    "    .option(\"encoding\", \"UTF-8\") \\\n",
    "    .schema(schema) \\\n",
    "    .load(\"/home/jlorenzor/data/inscripciones_talleres_jesus_maria.csv\")\n",
    "\n",
    "print(\"Vistazo al conjunto de datos:\")\n",
    "df.printSchema()\n",
    "print(f\"Total de registros: {df.count()}\")"
   ]
  },
  {
   "cell_type": "markdown",
   "metadata": {},
   "source": [
    "## 2. Transformación de datos"
   ]
  },
  {
   "cell_type": "markdown",
   "metadata": {},
   "source": [
    "### 2.1. Cantidad de matriculados"
   ]
  },
  {
   "cell_type": "code",
   "execution_count": 14,
   "metadata": {},
   "outputs": [
    {
     "name": "stdout",
     "output_type": "stream",
     "text": [
      "+---------------------------+-----+\n",
      "|taller                     |count|\n",
      "+---------------------------+-----+\n",
      "|NATACI�N A PARTIR DE 6 A�OS|413  |\n",
      "|NATACI�N PATERA 3 A 5 A�OS |156  |\n",
      "|FUTBOL MIXTO               |120  |\n",
      "|TAEKWONDO                  |113  |\n",
      "|B�SQUET                    |108  |\n",
      "|VOLEY                      |108  |\n",
      "|VOLEY M�STER               |68   |\n",
      "|AJEDREZ                    |55   |\n",
      "|CLOWN                      |50   |\n",
      "|KARATE                     |37   |\n",
      "+---------------------------+-----+\n",
      "only showing top 10 rows\n",
      "\n"
     ]
    }
   ],
   "source": [
    "df.groupBy(\"taller\").count().orderBy(desc(\"count\")).show(10, truncate=False)"
   ]
  },
  {
   "cell_type": "markdown",
   "metadata": {},
   "source": [
    "### 2.2. Distribución de edad por sexo"
   ]
  },
  {
   "cell_type": "code",
   "execution_count": 15,
   "metadata": {},
   "outputs": [
    {
     "name": "stdout",
     "output_type": "stream",
     "text": [
      "+---------+------------------+-------+-------+-----+\n",
      "|     sexo|           avg_age|min_age|max_age|total|\n",
      "+---------+------------------+-------+-------+-----+\n",
      "|MASCULINO| 9.156626506024097|      1|     50|  747|\n",
      "| FEMENINO|11.952612393681653|    -11|     71|  823|\n",
      "+---------+------------------+-------+-------+-----+\n",
      "\n"
     ]
    }
   ],
   "source": [
    "df.groupBy(\"sexo\").agg(\n",
    "    avg(\"edad\").alias(\"avg_age\"),\n",
    "    min(\"edad\").alias(\"min_age\"),\n",
    "    max(\"edad\").alias(\"max_age\"),\n",
    "    count(\"*\").alias(\"total\")\n",
    ").show()"
   ]
  },
  {
   "cell_type": "markdown",
   "metadata": {},
   "source": [
    "### 2.3. Tipos de precios"
   ]
  },
  {
   "cell_type": "code",
   "execution_count": 16,
   "metadata": {},
   "outputs": [
    {
     "name": "stdout",
     "output_type": "stream",
     "text": [
      "+-------+------------------+------------------+----------------------+\n",
      "|summary|      precio_total|precio_jesus_maria|precio_publico_general|\n",
      "+-------+------------------+------------------+----------------------+\n",
      "|  count|              1570|              1570|                  1570|\n",
      "|   mean| 125.2547770700637|121.68789808917198|      3.56687898089172|\n",
      "| stddev|35.757736723818645|38.028427443930816|     26.47828791391427|\n",
      "|    min|             100.0|               0.0|                   0.0|\n",
      "|    max|             250.0|             250.0|                 200.0|\n",
      "+-------+------------------+------------------+----------------------+\n",
      "\n"
     ]
    }
   ],
   "source": [
    "df.select(\"precio_total\", \"precio_jesus_maria\", \"precio_publico_general\").describe().show()"
   ]
  },
  {
   "cell_type": "markdown",
   "metadata": {},
   "source": [
    "### 2.4. Distribución geografica"
   ]
  },
  {
   "cell_type": "code",
   "execution_count": 17,
   "metadata": {},
   "outputs": [
    {
     "name": "stdout",
     "output_type": "stream",
     "text": [
      "+-----------+-----+\n",
      "|   distrito|count|\n",
      "+-----------+-----+\n",
      "|JESUS MARIA| 1570|\n",
      "+-----------+-----+\n",
      "\n"
     ]
    }
   ],
   "source": [
    "df.groupBy(\"distrito\").count().orderBy(desc(\"count\")).show()"
   ]
  },
  {
   "cell_type": "markdown",
   "metadata": {},
   "source": [
    "Detenemos la sesión de spark"
   ]
  },
  {
   "cell_type": "code",
   "execution_count": 18,
   "metadata": {},
   "outputs": [],
   "source": [
    "spark.stop()"
   ]
  }
 ],
 "metadata": {
  "kernelspec": {
   "display_name": "Python 3",
   "language": "python",
   "name": "python3"
  },
  "language_info": {
   "codemirror_mode": {
    "name": "ipython",
    "version": 3
   },
   "file_extension": ".py",
   "mimetype": "text/x-python",
   "name": "python",
   "nbconvert_exporter": "python",
   "pygments_lexer": "ipython3",
   "version": "3.9.4"
  }
 },
 "nbformat": 4,
 "nbformat_minor": 4
}
