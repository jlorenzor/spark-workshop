{
 "cells": [
  {
   "cell_type": "code",
   "execution_count": null,
   "metadata": {
    "vscode": {
     "languageId": "plaintext"
    }
   },
   "outputs": [],
   "source": [
    "import pandas as pd\n",
    "from pyspark.sql import SparkSession\n",
    "from pyspark.sql.functions import *\n",
    "\n",
    "# Initialize Spark\n",
    "spark = SparkSession.builder \\\n",
    "    .appName(\"Workshop Basic Analysis\") \\\n",
    "    .config(\"spark.jars\", \"/usr/local/spark/jars/postgresql-42.7.4.jar\") \\\n",
    "    .getOrCreate()\n",
    "\n",
    "# Load workshop data\n",
    "df = spark.read.csv(\"/home/jovyan/data/inscripciones_talleres_jesus_maria.csv\", \n",
    "                   header=True, inferSchema=True)\n",
    "\n",
    "# Basic exploratory analysis\n",
    "print(\"Dataset Overview:\")\n",
    "df.printSchema()\n",
    "df.describe().show()\n",
    "\n",
    "# Simple aggregations\n",
    "print(\"Workshop Enrollment Counts:\")\n",
    "df.groupBy(\"taller\").count().orderBy(desc(\"count\")).show()\n",
    "\n",
    "# Age distribution analysis\n",
    "print(\"Age Distribution by Gender:\")\n",
    "df.groupBy(\"sexo\").agg(\n",
    "    avg(\"edad\").alias(\"avg_age\"),\n",
    "    min(\"edad\").alias(\"min_age\"),\n",
    "    max(\"edad\").alias(\"max_ age\")\n",
    ").show()"
   ]
  }
 ],
 "metadata": {
  "language_info": {
   "name": "python"
  }
 },
 "nbformat": 4,
 "nbformat_minor": 2
}
